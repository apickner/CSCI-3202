{
 "cells": [
  {
   "cell_type": "markdown",
   "metadata": {},
   "source": [
    "# CSCI 3202, Spring 2020\n",
    "\n",
    "# Wednesday 12 February 2020\n",
    "\n",
    "# In-class notebook:  Hill climbing and Simulated Annealing"
   ]
  },
  {
   "cell_type": "markdown",
   "metadata": {},
   "source": [
    "\n",
    "\n",
    "<br>\n",
    "\n",
    "### Your name(s):\n",
    "\n",
    "<br>\n",
    "\n",
    "* When you submit this to Moodle, be sure to include all of your group members' names.\n",
    "* You may work in groups of up to 3 people,\n",
    "* but **all people** in the group must submit the assignment on their own Moodle account.\n",
    "\n",
    "---\n",
    "\n",
    "---"
   ]
  },
  {
   "cell_type": "markdown",
   "metadata": {},
   "source": [
    "Before we begin, let's load a few packages that we might find useful."
   ]
  },
  {
   "cell_type": "code",
   "execution_count": 1,
   "metadata": {},
   "outputs": [],
   "source": [
    "import numpy as np\n",
    "import matplotlib.pyplot as plt\n",
    "import scipy.stats as stats"
   ]
  },
  {
   "cell_type": "markdown",
   "metadata": {},
   "source": [
    "<br>\n",
    "\n",
    "<img src=\"http://1.bp.blogspot.com/-mWUxSF7q_JY/Vbd84OcwaSI/AAAAAAAA7No/5iT8gMZBHw8/s1600/seilschaft2---helliventures-joachimhellinger.jpg=\" width=\"300\"/>\n",
    "\n",
    "\n",
    "\n",
    "## Problem 1: Hill-climbing\n",
    "\n",
    "The over-arching goal here is to maximize some objective function.  You can also look at this as minimizing some kind of a loss... and you will!\n",
    "\n",
    "In many applications, the objective function might turn out to be a Gaussian function, such as this one:"
   ]
  },
  {
   "cell_type": "code",
   "execution_count": 2,
   "metadata": {},
   "outputs": [],
   "source": [
    "def gaussian_objective(state):\n",
    "    return stats.norm.pdf(x=state, loc=5, scale=2)"
   ]
  },
  {
   "cell_type": "markdown",
   "metadata": {},
   "source": [
    "Note the this objective function is just taking in some value $\\texttt{state}$ and returning the value of the normal probability density function, centered at $\\texttt{loc} = \\mu = 5$ and with standard deviation $\\texttt{scale} = \\sigma = 2$:\n",
    "$$f(\\texttt{state}) = \\dfrac{1}{\\sqrt{2\\pi}\\sigma} e^{-\\dfrac{(\\texttt{state}-\\mu)^2}{2\\sigma^2}}$$"
   ]
  },
  {
   "cell_type": "markdown",
   "metadata": {},
   "source": [
    "For good measure, let's plot this thing up and see what it looks like."
   ]
  },
  {
   "cell_type": "code",
   "execution_count": 3,
   "metadata": {},
   "outputs": [
    {
     "data": {
      "image/png": "[encoded data removed]",
      "text/plain": [
       "<Figure size 432x288 with 1 Axes>"
      ]
     },
     "metadata": {
      "needs_background": "light"
     },
     "output_type": "display_data"
    }
   ],
   "source": [
    "x = np.arange(-5,15,0.1)\n",
    "f = [gaussian_objective(state) for state in x]\n",
    "\n",
    "plt.plot(x,f)\n",
    "plt.xlabel('State')\n",
    "plt.ylabel('Objective function')\n",
    "plt.show()"
   ]
  },
  {
   "cell_type": "markdown",
   "metadata": {},
   "source": [
    "Neat.\n",
    "\n",
    "<br>\n",
    "\n",
    "The first order of business if we want to maximize some objective function using the **local search** techniques we just learned will be to set up a class structure to make this easier.\n",
    "\n",
    "If we do this in a general enough way for **hill-climbing** (this first part), we will only need to modify a few things to tackle a trickier problem using **simulated annealing**."
   ]
  },
  {
   "cell_type": "markdown",
   "metadata": {},
   "source": [
    "<a/ id='p1a'></a>\n",
    "\n",
    "### (1a)  A class structure to solve problems\n",
    "\n",
    "So first, let's define a class to keep track of the `state`.  This is the quantity we want to adjust in order to optimize the objective function.  That sentence indicates the two values we really need to keep track of for a `state`:\n",
    "1. the value of `state`\n",
    "2. the value of the `objective_function` when evaluated at `state`"
   ]
  },
  {
   "cell_type": "code",
   "execution_count": 4,
   "metadata": {},
   "outputs": [],
   "source": [
    "class state:\n",
    "\n",
    "    def __init__(self, node, value):\n",
    "        self.node = node\n",
    "        self.value = value    "
   ]
  },
  {
   "cell_type": "markdown",
   "metadata": {},
   "source": [
    "Now we need to define our problem.  This should be entirely self-contained, so that we need to feed the `hill_climb` optimization routine below a fairly generic problem description, and it can solve it, so we can easily feed in different problems.\n",
    "\n",
    "**The goal** with this class structure is to have everything that is **problem-specific** sent into the hill-climbing optimization/local search be self-contained within the `problem` object."
   ]
  },
  {
   "cell_type": "code",
   "execution_count": 5,
   "metadata": {},
   "outputs": [],
   "source": [
    "class problem:\n",
    "    \n",
    "    def __init__(self, initial, objective_function, stepsize):\n",
    "        self.initial_state = initial\n",
    "        self.current_state = initial\n",
    "        self.objective_function = objective_function\n",
    "        self.stepsize = stepsize\n",
    "        \n",
    "    def moves(self):\n",
    "        '''return all possible moves to make from the current_state'''\n",
    "        all_moves = []\n",
    "        # could move right...\n",
    "        all_moves.append(self.current_state.node + self.stepsize)\n",
    "        # ... or left!\n",
    "        all_moves.append(self.current_state.node - self.stepsize)\n",
    "        return all_moves"
   ]
  },
  {
   "cell_type": "markdown",
   "metadata": {},
   "source": [
    "Finally, we can turn our Hill-climbing pseudocode into real code, that takes only two arguments and returns the `state` that optimizes the `objective_function`.  Note that the return can be done implicitly by manipulating the current state within our `problem`, or we could code it up as an explicit output."
   ]
  },
  {
   "cell_type": "code",
   "execution_count": 6,
   "metadata": {},
   "outputs": [],
   "source": [
    "def hill_climb(problem, n_iter):\n",
    "    \n",
    "    # iterate until we can't do any better\n",
    "    for k in range(n_iter):\n",
    "        nextMove, nextValue = problem.best_move()\n",
    "        if nextValue <= problem.current_state.value:\n",
    "            return problem.current_state\n",
    "        print(problem.current_state, nextMove)\n",
    "        problem.current_state.node, problem.current_state.value = nextMove, nextValue\n",
    "    print('reached n_iter')\n",
    "    return False\n",
    "\n",
    "class problem_hillclimb(problem):\n",
    "    \n",
    "    def best_move(self):\n",
    "        '''return the best move possible from the current_state'''\n",
    "        # what moves are possible?\n",
    "        all_moves = self.moves()\n",
    "        # what is objective function for each of them?\n",
    "        obj_func = [self.objective_function(move) for move in all_moves]\n",
    "        best = all_moves[max(zip(obj_func, range(len(obj_func))))[1]]\n",
    "        return best, np.max(obj_func)"
   ]
  },
  {
   "cell_type": "markdown",
   "metadata": {},
   "source": [
    "\n",
    "\n",
    "### (1b)  Ready to solve!\n",
    "\n",
    "Let's start by creating an `initial_state` for our problem."
   ]
  },
  {
   "cell_type": "code",
   "execution_count": 7,
   "metadata": {},
   "outputs": [],
   "source": [
    "initial_state = state(node=1, value=gaussian_objective(1))"
   ]
  },
  {
   "cell_type": "markdown",
   "metadata": {},
   "source": [
    "Now we need an instance of our `problem`."
   ]
  },
  {
   "cell_type": "code",
   "execution_count": 8,
   "metadata": {},
   "outputs": [],
   "source": [
    "gaussian_problem = problem_hillclimb(initial=initial_state, objective_function=gaussian_objective, stepsize=0.1)"
   ]
  },
  {
   "cell_type": "markdown",
   "metadata": {},
   "source": [
    "Finally, we can turn out `hill_climb` algorithm loose on this problem."
   ]
  },
  {
   "cell_type": "code",
   "execution_count": 9,
   "metadata": {},
   "outputs": [
    {
     "name": "stdout",
     "output_type": "stream",
     "text": [
      "<__main__.state object at 0x122f70110> 1.1\n",
      "<__main__.state object at 0x122f70110> 1.2000000000000002\n",
      "<__main__.state object at 0x122f70110> 1.3000000000000003\n",
      "<__main__.state object at 0x122f70110> 1.4000000000000004\n",
      "<__main__.state object at 0x122f70110> 1.5000000000000004\n",
      "<__main__.state object at 0x122f70110> 1.6000000000000005\n",
      "<__main__.state object at 0x122f70110> 1.7000000000000006\n",
      "<__main__.state object at 0x122f70110> 1.8000000000000007\n",
      "<__main__.state object at 0x122f70110> 1.9000000000000008\n",
      "<__main__.state object at 0x122f70110> 2.000000000000001\n",
      "<__main__.state object at 0x122f70110> 2.100000000000001\n",
      "<__main__.state object at 0x122f70110> 2.200000000000001\n",
      "<__main__.state object at 0x122f70110> 2.300000000000001\n",
      "<__main__.state object at 0x122f70110> 2.4000000000000012\n",
      "<__main__.state object at 0x122f70110> 2.5000000000000013\n",
      "<__main__.state object at 0x122f70110> 2.6000000000000014\n",
      "<__main__.state object at 0x122f70110> 2.7000000000000015\n",
      "<__main__.state object at 0x122f70110> 2.8000000000000016\n",
      "<__main__.state object at 0x122f70110> 2.9000000000000017\n",
      "<__main__.state object at 0x122f70110> 3.0000000000000018\n",
      "<__main__.state object at 0x122f70110> 3.100000000000002\n",
      "<__main__.state object at 0x122f70110> 3.200000000000002\n",
      "<__main__.state object at 0x122f70110> 3.300000000000002\n",
      "<__main__.state object at 0x122f70110> 3.400000000000002\n",
      "<__main__.state object at 0x122f70110> 3.500000000000002\n",
      "<__main__.state object at 0x122f70110> 3.6000000000000023\n",
      "<__main__.state object at 0x122f70110> 3.7000000000000024\n",
      "<__main__.state object at 0x122f70110> 3.8000000000000025\n",
      "<__main__.state object at 0x122f70110> 3.9000000000000026\n",
      "<__main__.state object at 0x122f70110> 4.000000000000003\n",
      "<__main__.state object at 0x122f70110> 4.100000000000002\n",
      "<__main__.state object at 0x122f70110> 4.200000000000002\n",
      "<__main__.state object at 0x122f70110> 4.300000000000002\n",
      "<__main__.state object at 0x122f70110> 4.400000000000001\n",
      "<__main__.state object at 0x122f70110> 4.500000000000001\n",
      "<__main__.state object at 0x122f70110> 4.6000000000000005\n",
      "<__main__.state object at 0x122f70110> 4.7\n",
      "<__main__.state object at 0x122f70110> 4.8\n",
      "<__main__.state object at 0x122f70110> 4.8999999999999995\n",
      "<__main__.state object at 0x122f70110> 4.999999999999999\n",
      "4.999999999999999 0.19947114020071635\n"
     ]
    }
   ],
   "source": [
    "out = hill_climb(gaussian_problem, n_iter=50)\n",
    "print(out.node, out.value)"
   ]
  },
  {
   "cell_type": "markdown",
   "metadata": {},
   "source": [
    "## A couple extensions\n",
    "\n",
    "That's good and all, but that particular objective function was just a single univariate Gaussian.  It turns out that the real world is tougher than that.  So let's tackle some tougher problems, shall we?\n",
    "\n",
    "\n",
    "\n",
    "### (1c) Minimization\n",
    "\n",
    "First, it might be the case that we want to ***minimize*** an objective function instead of maximizing it.  Modify your hill-climbing codes to tackle the problem of minimization.  Note:  this ought to be do-able by modifying a single line of code from above..."
   ]
  },
  {
   "cell_type": "code",
   "execution_count": 10,
   "metadata": {},
   "outputs": [],
   "source": [
    "def hill_climb_2(problem, n_iter):\n",
    "    \n",
    "    # iterate until we can't do any better\n",
    "    for k in range(n_iter):\n",
    "        nextMove, nextValue = problem.best_move()\n",
    "        if nextValue >= problem.current_state.value:\n",
    "            return problem.current_state\n",
    "        print(problem.current_state, nextMove)\n",
    "        problem.current_state.node, problem.current_state.value = nextMove, nextValue\n",
    "    print('reached n_iter')\n",
    "    return False\n",
    "\n",
    "class problem_hillclimb_2(problem):\n",
    "    \n",
    "    def best_move(self):\n",
    "        '''return the best move possible from the current_state'''\n",
    "        # what moves are possible?\n",
    "        all_moves = self.moves()\n",
    "        # what is objective function for each of them?\n",
    "        obj_func = [self.objective_function(move) for move in all_moves]\n",
    "        best = all_moves[min(zip(obj_func, range(len(obj_func))))[1]]\n",
    "        return best, np.min(obj_func)"
   ]
  },
  {
   "cell_type": "code",
   "execution_count": 11,
   "metadata": {},
   "outputs": [],
   "source": [
    "def negative_gaussian_objective(state):\n",
    "    return -stats.norm.pdf(x=state, loc=5, scale=2)"
   ]
  },
  {
   "cell_type": "code",
   "execution_count": 12,
   "metadata": {},
   "outputs": [
    {
     "data": {
      "image/png": "[encoded data removed]",
      "text/plain": [
       "<Figure size 432x288 with 1 Axes>"
      ]
     },
     "metadata": {
      "needs_background": "light"
     },
     "output_type": "display_data"
    }
   ],
   "source": [
    "x_2 = np.arange(-5,15,0.1)\n",
    "f_2 = [negative_gaussian_objective(state) for state in x]\n",
    "\n",
    "plt.plot(x_2,f_2)\n",
    "plt.xlabel('State')\n",
    "plt.ylabel('Objective function')\n",
    "plt.show()"
   ]
  },
  {
   "cell_type": "code",
   "execution_count": 13,
   "metadata": {},
   "outputs": [],
   "source": [
    "initial_state_2 = state(node=1, value=negative_gaussian_objective(1))"
   ]
  },
  {
   "cell_type": "code",
   "execution_count": 14,
   "metadata": {},
   "outputs": [],
   "source": [
    "gaussian_problem_2 = problem_hillclimb_2(initial=initial_state_2, objective_function=negative_gaussian_objective, stepsize=0.1)"
   ]
  },
  {
   "cell_type": "code",
   "execution_count": 15,
   "metadata": {},
   "outputs": [
    {
     "name": "stdout",
     "output_type": "stream",
     "text": [
      "1 -0.02699548325659403\n"
     ]
    }
   ],
   "source": [
    "out_2 = hill_climb_2(gaussian_problem_2, n_iter=50)\n",
    "print(out_2.node, out_2.value)"
   ]
  },
  {
   "cell_type": "markdown",
   "metadata": {},
   "source": [
    "Now **define your own** objective function to minimize!  Easy options include concave-up quadratic functions just slapping a $-$ sign into the Gaussian objective function defined above.  Then turn your descent algorithm loose on the minimization problem."
   ]
  },
  {
   "cell_type": "markdown",
   "metadata": {},
   "source": [
    "\n",
    "### (1d)  Random restarts\n",
    "\n",
    "That single Gaussian actually covers many real-world applications of optimization and local search, but many other applications lead to \"bumpier\" objective functions.  Suppose you are trying to fit a model to noisy data, and suppose each of your data points has normally-distributed uncertainty.  Then the objective function you would like to minimize could take the form of the sum of several Gaussian distributions, like so:\n",
    "\n",
    "$$f(\\texttt{state}) = \\dfrac{1}{\\sqrt{2\\pi}\\sigma} \\left(e^{-\\dfrac{(\\texttt{state}-\\mu_0)^2}{2\\sigma^2}} + \n",
    "e^{-\\dfrac{(\\texttt{state}-\\mu_1)^2}{2\\sigma^2}} + \n",
    "e^{-\\dfrac{(\\texttt{state}-\\mu_2)^2}{2\\sigma^2}} + \n",
    "e^{-\\dfrac{(\\texttt{state}-\\mu_3)^2}{2\\sigma^2}} + \n",
    "e^{-\\dfrac{(\\texttt{state}-\\mu_4)^2}{2\\sigma^2}}\\right)$$\n",
    "\n",
    "Here, $\\mu_i$ denotes the data points you have, $\\sigma$ is assumed to be an uncertainty shared by all of them, and $\\texttt{state}$ is your model's output, which you want to fit through those data points.\n",
    "\n",
    "If we let $\\sigma=1$, $\\mu_0 = 0$, $\\mu_1 = 2.1$, $\\mu_2 = 4$, $\\mu_3 = 4$ and $\\mu_4 = 8$, then we end up with the following objective function, `several_gaussian_objective(state)`:"
   ]
  },
  {
   "cell_type": "code",
   "execution_count": 16,
   "metadata": {},
   "outputs": [],
   "source": [
    "def several_gaussian_objective(state):\n",
    "    locs = [0,2.1,4,4,8] # centers of a bunch of normal distributions\n",
    "    objective_value = 0\n",
    "    # objective function is actually just the sum of a bunch of normal pdfs\n",
    "    for loc in locs:\n",
    "        objective_value += stats.norm.pdf(state, loc=loc, scale=1)\n",
    "    return objective_value"
   ]
  },
  {
   "cell_type": "markdown",
   "metadata": {},
   "source": [
    "Plot up this new objective function as a function of `state`.  What do you notice?  Will our \"vanilla\" hill-climbing routine successfully climb the hill and maximize this objective function for *any* initial state?"
   ]
  },
  {
   "cell_type": "code",
   "execution_count": 17,
   "metadata": {},
   "outputs": [
    {
     "data": {
      "image/png": "[encoded data removed]",
      "text/plain": [
       "<Figure size 432x288 with 1 Axes>"
      ]
     },
     "metadata": {
      "needs_background": "light"
     },
     "output_type": "display_data"
    }
   ],
   "source": [
    "x = np.arange(start=-5, stop=15, step=0.1)\n",
    "fx = [several_gaussian_objective(xk) for xk in x]\n",
    "plt.plot(x, fx, lw=2)\n",
    "plt.xlabel('State')\n",
    "plt.ylabel('Objective function')\n",
    "plt.show()"
   ]
  },
  {
   "cell_type": "markdown",
   "metadata": {},
   "source": [
    "Note that we can check about where the global maximum is fairly easily:"
   ]
  },
  {
   "cell_type": "code",
   "execution_count": 18,
   "metadata": {},
   "outputs": [
    {
     "data": {
      "text/plain": [
       "(0.8764853553213469, 3.7999999999999687)"
      ]
     },
     "execution_count": 18,
     "metadata": {},
     "output_type": "execute_result"
    }
   ],
   "source": [
    "max(zip(fx, x))"
   ]
  },
  {
   "cell_type": "markdown",
   "metadata": {},
   "source": [
    "Let's modify our vanilla hill-climbing solution approach from **(1b)** to include 500 random restarts for the initial state.\n",
    "\n",
    "The following code will draw `n_restarts` random samples from the range $[0, 1)$."
   ]
  },
  {
   "cell_type": "code",
   "execution_count": 19,
   "metadata": {},
   "outputs": [],
   "source": [
    "n_restarts = 500\n",
    "sample = np.random.random(size=n_restarts)"
   ]
  },
  {
   "cell_type": "markdown",
   "metadata": {},
   "source": [
    "Modify that to draw instead from the range $[-2, 10)$.  Use those samples to create an **ensemble** of the values of `state` for which the objective function is maximized.  Plot a histogram of them, and make a conclusion about what the \"best guess\" for the maximal `state` is."
   ]
  },
  {
   "cell_type": "code",
   "execution_count": 20,
   "metadata": {},
   "outputs": [
    {
     "name": "stdout",
     "output_type": "stream",
     "text": [
      "[ 0.53845939  1.01772786  5.9266639   7.64438349  3.83841972  7.1677136\n",
      "  6.44341559  8.32162516 -0.75023637  8.04132773]\n",
      "<__main__.state object at 0x123258a90> 0.6384593867621041\n",
      "<__main__.state object at 0x123258a90> 0.7384593867621041\n",
      "<__main__.state object at 0x123258a90> 0.8384593867621041\n",
      "<__main__.state object at 0x123258a90> 0.938459386762104\n",
      "<__main__.state object at 0x123258a90> 1.0384593867621041\n",
      "<__main__.state object at 0x123258a90> 1.1384593867621042\n",
      "<__main__.state object at 0x123258a90> 1.2384593867621043\n",
      "<__main__.state object at 0x123258a90> 1.3384593867621044\n",
      "<__main__.state object at 0x123258a90> 1.4384593867621045\n",
      "<__main__.state object at 0x123258a90> 1.5384593867621046\n",
      "<__main__.state object at 0x123258a90> 1.6384593867621047\n",
      "<__main__.state object at 0x123258a90> 1.7384593867621048\n",
      "<__main__.state object at 0x123258a90> 1.8384593867621049\n",
      "<__main__.state object at 0x123258a90> 1.938459386762105\n",
      "<__main__.state object at 0x123258a90> 2.038459386762105\n",
      "<__main__.state object at 0x123258a90> 2.138459386762105\n",
      "<__main__.state object at 0x123258a90> 2.238459386762105\n",
      "<__main__.state object at 0x123258a90> 2.3384593867621053\n",
      "<__main__.state object at 0x123258a90> 2.4384593867621054\n",
      "<__main__.state object at 0x123258a90> 2.5384593867621055\n",
      "<__main__.state object at 0x123258a90> 2.6384593867621056\n",
      "<__main__.state object at 0x123258a90> 2.7384593867621057\n",
      "<__main__.state object at 0x123258a90> 2.8384593867621057\n",
      "<__main__.state object at 0x123258a90> 2.938459386762106\n",
      "<__main__.state object at 0x123258a90> 3.038459386762106\n",
      "<__main__.state object at 0x123258a90> 3.138459386762106\n",
      "<__main__.state object at 0x123258a90> 3.238459386762106\n",
      "<__main__.state object at 0x123258a90> 3.338459386762106\n",
      "<__main__.state object at 0x123258a90> 3.4384593867621063\n",
      "<__main__.state object at 0x123258a90> 3.5384593867621064\n",
      "<__main__.state object at 0x123258a90> 3.6384593867621065\n",
      "<__main__.state object at 0x123258a90> 3.7384593867621065\n",
      "<__main__.state object at 0x123258a90> 3.8384593867621066\n",
      "<__main__.state object at 0x122f70110> 1.1177278592089412\n",
      "<__main__.state object at 0x122f70110> 1.2177278592089413\n",
      "<__main__.state object at 0x122f70110> 1.3177278592089414\n",
      "<__main__.state object at 0x122f70110> 1.4177278592089415\n",
      "<__main__.state object at 0x122f70110> 1.5177278592089416\n",
      "<__main__.state object at 0x122f70110> 1.6177278592089417\n",
      "<__main__.state object at 0x122f70110> 1.7177278592089418\n",
      "<__main__.state object at 0x122f70110> 1.8177278592089419\n",
      "<__main__.state object at 0x122f70110> 1.917727859208942\n",
      "<__main__.state object at 0x122f70110> 2.017727859208942\n",
      "<__main__.state object at 0x122f70110> 2.117727859208942\n",
      "<__main__.state object at 0x122f70110> 2.217727859208942\n",
      "<__main__.state object at 0x122f70110> 2.3177278592089423\n",
      "<__main__.state object at 0x122f70110> 2.4177278592089424\n",
      "<__main__.state object at 0x122f70110> 2.5177278592089425\n",
      "<__main__.state object at 0x122f70110> 2.6177278592089426\n",
      "<__main__.state object at 0x122f70110> 2.7177278592089427\n",
      "<__main__.state object at 0x122f70110> 2.8177278592089428\n",
      "<__main__.state object at 0x122f70110> 2.917727859208943\n",
      "<__main__.state object at 0x122f70110> 3.017727859208943\n",
      "<__main__.state object at 0x122f70110> 3.117727859208943\n",
      "<__main__.state object at 0x122f70110> 3.217727859208943\n",
      "<__main__.state object at 0x122f70110> 3.317727859208943\n",
      "<__main__.state object at 0x122f70110> 3.4177278592089433\n",
      "<__main__.state object at 0x122f70110> 3.5177278592089434\n",
      "<__main__.state object at 0x122f70110> 3.6177278592089435\n",
      "<__main__.state object at 0x122f70110> 3.7177278592089436\n",
      "<__main__.state object at 0x122f70110> 3.8177278592089436\n",
      "<__main__.state object at 0x123258a90> 5.826663902260673\n",
      "<__main__.state object at 0x123258a90> 5.726663902260674\n",
      "<__main__.state object at 0x123258a90> 5.626663902260674\n",
      "<__main__.state object at 0x123258a90> 5.526663902260674\n",
      "<__main__.state object at 0x123258a90> 5.426663902260675\n",
      "<__main__.state object at 0x123258a90> 5.326663902260675\n",
      "<__main__.state object at 0x123258a90> 5.226663902260675\n",
      "<__main__.state object at 0x123258a90> 5.126663902260676\n",
      "<__main__.state object at 0x123258a90> 5.026663902260676\n",
      "<__main__.state object at 0x123258a90> 4.926663902260676\n",
      "<__main__.state object at 0x123258a90> 4.826663902260677\n",
      "<__main__.state object at 0x123258a90> 4.726663902260677\n",
      "<__main__.state object at 0x123258a90> 4.6266639022606775\n",
      "<__main__.state object at 0x123258a90> 4.526663902260678\n",
      "<__main__.state object at 0x123258a90> 4.426663902260678\n",
      "<__main__.state object at 0x123258a90> 4.3266639022606785\n",
      "<__main__.state object at 0x123258a90> 4.226663902260679\n",
      "<__main__.state object at 0x123258a90> 4.126663902260679\n",
      "<__main__.state object at 0x123258a90> 4.02666390226068\n",
      "<__main__.state object at 0x123258a90> 3.9266639022606795\n",
      "<__main__.state object at 0x123258a90> 3.8266639022606794\n",
      "<__main__.state object at 0x122f70110> 7.7443834932273905\n",
      "<__main__.state object at 0x122f70110> 7.84438349322739\n",
      "<__main__.state object at 0x122f70110> 7.94438349322739\n",
      "<__main__.state object at 0x122f70110> 8.04438349322739\n",
      "<__main__.state object at 0x120da3810> 7.267713597571033\n",
      "<__main__.state object at 0x120da3810> 7.367713597571033\n",
      "<__main__.state object at 0x120da3810> 7.4677135975710325\n",
      "<__main__.state object at 0x120da3810> 7.567713597571032\n",
      "<__main__.state object at 0x120da3810> 7.667713597571032\n",
      "<__main__.state object at 0x120da3810> 7.767713597571031\n",
      "<__main__.state object at 0x120da3810> 7.867713597571031\n",
      "<__main__.state object at 0x120da3810> 7.967713597571031\n",
      "<__main__.state object at 0x123258a90> 6.543415589934293\n",
      "<__main__.state object at 0x123258a90> 6.643415589934293\n",
      "<__main__.state object at 0x123258a90> 6.743415589934292\n",
      "<__main__.state object at 0x123258a90> 6.843415589934292\n",
      "<__main__.state object at 0x123258a90> 6.9434155899342915\n",
      "<__main__.state object at 0x123258a90> 7.043415589934291\n",
      "<__main__.state object at 0x123258a90> 7.143415589934291\n",
      "<__main__.state object at 0x123258a90> 7.2434155899342905\n",
      "<__main__.state object at 0x123258a90> 7.34341558993429\n",
      "<__main__.state object at 0x123258a90> 7.44341558993429\n",
      "<__main__.state object at 0x123258a90> 7.543415589934289\n",
      "<__main__.state object at 0x123258a90> 7.643415589934289\n",
      "<__main__.state object at 0x123258a90> 7.743415589934289\n",
      "<__main__.state object at 0x123258a90> 7.843415589934288\n",
      "<__main__.state object at 0x123258a90> 7.943415589934288\n",
      "<__main__.state object at 0x123258a90> 8.043415589934288\n",
      "<__main__.state object at 0x120da3810> 8.221625162706559\n",
      "<__main__.state object at 0x120da3810> 8.12162516270656\n",
      "<__main__.state object at 0x120da3810> 8.02162516270656\n",
      "<__main__.state object at 0x123258a90> -0.6502363739789919\n",
      "<__main__.state object at 0x123258a90> -0.5502363739789919\n",
      "<__main__.state object at 0x123258a90> -0.45023637397899197\n",
      "<__main__.state object at 0x123258a90> -0.350236373978992\n",
      "<__main__.state object at 0x123258a90> -0.250236373978992\n",
      "<__main__.state object at 0x123258a90> -0.150236373978992\n",
      "<__main__.state object at 0x123258a90> -0.050236373978992\n",
      "<__main__.state object at 0x123258a90> 0.049763626021008006\n",
      "<__main__.state object at 0x123258a90> 0.149763626021008\n",
      "<__main__.state object at 0x123258a90> 0.24976362602100802\n",
      "<__main__.state object at 0x123258a90> 0.349763626021008\n",
      "<__main__.state object at 0x123258a90> 0.44976362602100806\n",
      "<__main__.state object at 0x123258a90> 0.549763626021008\n",
      "<__main__.state object at 0x123258a90> 0.649763626021008\n",
      "<__main__.state object at 0x123258a90> 0.749763626021008\n",
      "<__main__.state object at 0x123258a90> 0.849763626021008\n",
      "<__main__.state object at 0x123258a90> 0.949763626021008\n",
      "<__main__.state object at 0x123258a90> 1.049763626021008\n",
      "<__main__.state object at 0x123258a90> 1.149763626021008\n",
      "<__main__.state object at 0x123258a90> 1.249763626021008\n",
      "<__main__.state object at 0x123258a90> 1.3497636260210082\n",
      "<__main__.state object at 0x123258a90> 1.4497636260210083\n",
      "<__main__.state object at 0x123258a90> 1.5497636260210084\n",
      "<__main__.state object at 0x123258a90> 1.6497636260210085\n",
      "<__main__.state object at 0x123258a90> 1.7497636260210085\n",
      "<__main__.state object at 0x123258a90> 1.8497636260210086\n",
      "<__main__.state object at 0x123258a90> 1.9497636260210087\n",
      "<__main__.state object at 0x123258a90> 2.049763626021009\n",
      "<__main__.state object at 0x123258a90> 2.149763626021009\n",
      "<__main__.state object at 0x123258a90> 2.249763626021009\n",
      "<__main__.state object at 0x123258a90> 2.349763626021009\n",
      "<__main__.state object at 0x123258a90> 2.449763626021009\n",
      "<__main__.state object at 0x123258a90> 2.5497636260210093\n",
      "<__main__.state object at 0x123258a90> 2.6497636260210093\n",
      "<__main__.state object at 0x123258a90> 2.7497636260210094\n",
      "<__main__.state object at 0x123258a90> 2.8497636260210095\n",
      "<__main__.state object at 0x123258a90> 2.9497636260210096\n",
      "<__main__.state object at 0x123258a90> 3.0497636260210097\n",
      "<__main__.state object at 0x123258a90> 3.14976362602101\n",
      "<__main__.state object at 0x123258a90> 3.24976362602101\n",
      "<__main__.state object at 0x123258a90> 3.34976362602101\n",
      "<__main__.state object at 0x123258a90> 3.44976362602101\n",
      "<__main__.state object at 0x123258a90> 3.54976362602101\n",
      "<__main__.state object at 0x123258a90> 3.6497636260210102\n",
      "<__main__.state object at 0x123258a90> 3.7497636260210103\n"
     ]
    },
    {
     "data": {
      "image/png": "[encoded data removed]",
      "text/plain": [
       "<Figure size 432x288 with 1 Axes>"
      ]
     },
     "metadata": {
      "needs_background": "light"
     },
     "output_type": "display_data"
    }
   ],
   "source": [
    "n_restarts = 10\n",
    "max_found = []\n",
    "range_init = [-2, 10]\n",
    "initial_values = np.random.random(size=n_restarts)*np.diff(range_init)+range_init[0]\n",
    "#initial_values = np.random.uniform(-2,10,size=n_restarts)\n",
    "print(initial_values)\n",
    "\n",
    "for n in range(n_restarts):\n",
    "    initial_state = state(node=initial_values[n], value=several_gaussian_objective(initial_values[n]))\n",
    "    gaussian_problem = problem_hillclimb(initial=initial_state, objective_function=several_gaussian_objective, stepsize=0.1)\n",
    "    out = hill_climb(gaussian_problem, n_iter=500)\n",
    "    max_found.append(out.node)\n",
    "    \n",
    "plt.hist(max_found)\n",
    "plt.show()"
   ]
  },
  {
   "cell_type": "markdown",
   "metadata": {},
   "source": [
    "\n",
    "### (1e) Final weird question\n",
    "\n",
    "You probably noticed that a bunch of the random restarts landed at the global maximum near 4. That's good and makes perfect sense!\n",
    "\n",
    "And you also probably noticed that a handful of them also landed near the local maximum just below 8. That is less good, but also makes sense.\n",
    "\n",
    "But you may have also found a small bunch of simulations that ended up around 6.  That probably doesn't make immediate sense. **Why the heck** would any simulations end up around 6?  We're supposed to be ***hill-climbing***, and only taking uphill steps, and these are in a local minimum!\n",
    "\n",
    "See if you can figure out what in the world is going on there.  It is subtle, but a critical point to be aware of whenever we try to solve a *continuous* problem with a *discrete* instrument (like a computer)."
   ]
  },
  {
   "cell_type": "code",
   "execution_count": null,
   "metadata": {},
   "outputs": [],
   "source": []
  },
  {
   "cell_type": "markdown",
   "metadata": {},
   "source": [
    "<br>\n",
    "\n",
    "---\n",
    "\n",
    "<br>\n",
    "\n",
    "<img src=\"https://www.metalsupermarkets.com/wp-content/uploads/2015/09/Heat-Treating-Furnace-2.jpg\" width=\"300\"/>\n",
    "\n",
    "\n",
    "\n",
    "## Problem 2: Simulated annealing\n",
    "\n",
    "\n",
    "\n",
    "### (2a) \n",
    "\n",
    "First, we need to either create a new class for a simulated annealing `problem`, or sub-class our `problem` class from earlier. That shouldn't be too bad - the main difference is that instead of the best move at any given point, we need to select a random one.\n",
    "\n",
    "In addition to the `objective_function` argument during construction, we also ought to include the `schedule_function` for the temperature updates as time goes on (which moderate how likely we are to take sub-optimal steps). (We will define that one next!)"
   ]
  },
  {
   "cell_type": "code",
   "execution_count": 21,
   "metadata": {},
   "outputs": [],
   "source": [
    "class problem_anneal(problem):\n",
    "#    def __init__(self, initial, objective_function, stepsize):\n",
    "\n",
    "    def __init__(self, initial, objective_function, schedule_function, stepsize):\n",
    "        problem.__init__(self, initial, objective_function, stepsize)\n",
    "        self.schedule_function = schedule_function\n",
    "\n",
    "    def random_move(self):\n",
    "        '''return a random move, possible from the current_state'''\n",
    "        all_moves = self.moves()\n",
    "        next_move = np.random.choice(all_moves)\n",
    "        return next_move, self.objective_function(next_move)"
   ]
  },
  {
   "cell_type": "markdown",
   "metadata": {},
   "source": [
    "**Note** that here I've sub-classed `problem`. In general, it might make more sense to just add more methods to a generic problem class."
   ]
  },
  {
   "cell_type": "markdown",
   "metadata": {},
   "source": [
    "\n",
    "### (2b)  Find a temperature schedule\n",
    "\n",
    "Now, we need to actually write our code for the simulated annealing algorithm.  That's a bit more involved than the hill-climbing.\n",
    "\n",
    "The trickiest part is deciding the form for (1) the temperature/time schedule $T(t)$ ($T$ is temperature, $t$ is time), and (2) the accept/reject probability as a function of temperature and the difference in model performance between our current and proposed moves, $\\Delta E$.\n",
    "\n",
    "First, let's play around with the **temperature schedule**.  A typical choice might look like:\n",
    "\n",
    "$$T(t) = \\dfrac{C}{(t+1)^p}$$\n",
    "\n",
    "where $C$ and $p$ are some constants you can tune. The +1 in the denominator is to avoid divide-by-0 situations. \n",
    "\n",
    "Now a typical choice for the probability of accepting a move, based on $\\Delta E = f(\\text{current state}) - f(\\text{proposed state})$ (where $f$ is the objective function that we want to *minimize* here) is:\n",
    "\n",
    "$$p_{accept} = \\exp{\\left(\\dfrac{\\Delta E}{T(t)}\\right)}$$\n",
    "\n",
    "Note that:\n",
    "1. if we wanted instead to *maximize* $f$, we just need to throw a $-$ sign in front of $\\Delta E$, and\n",
    "2. if we find that $f(\\text{proposed state}) < f(\\text{current state})$, then $\\Delta E > 0$ and we should accept the move with $p_{accept} = 1$.\n",
    "\n",
    "That form for $p_{accept}$ is based loosely off of Newton's Law of Cooling and good old-fashioned thermodynamics.  Say what you will about Newton ([he was a jerk](https://jencyclopedic.wordpress.com/2014/04/02/isaac-newton-was-a-dick/)), but his law of cooling is pretty nice.\n",
    "\n",
    "See if you can choose $C$ and $p$ such that the acceptance probability $p_{accept}$ starts near 1 and decreases smoothly to somewhere around 20% for $t$ ranging from 0 to 1,000.\n",
    "For these preliminary tests, let's just assume that $\\Delta E$ is constant at $\\Delta E = -0.2$."
   ]
  },
  {
   "cell_type": "code",
   "execution_count": 22,
   "metadata": {},
   "outputs": [
    {
     "data": {
      "image/png": "[encoded data removed]",
      "text/plain": [
       "<Figure size 432x288 with 1 Axes>"
      ]
     },
     "metadata": {
      "needs_background": "light"
     },
     "output_type": "display_data"
    }
   ],
   "source": [
    "time = list(range(1000))\n",
    "temperature = [20/(tt+1)**.7 for tt in time]\n",
    "paccept = [np.exp(-0.2/temp) for temp in temperature]\n",
    "\n",
    "plt.plot(time, paccept)\n",
    "plt.ylim([0,1])\n",
    "plt.show()"
   ]
  },
  {
   "cell_type": "markdown",
   "metadata": {},
   "source": [
    "Armed with these choices for $C$ and $p$, we can define a `schedule(time)` function for $T(t)$:"
   ]
  },
  {
   "cell_type": "code",
   "execution_count": 23,
   "metadata": {},
   "outputs": [],
   "source": [
    "def schedule(time):\n",
    "    '''some sort of mapping from time to temperature, to represent how we should be \n",
    "    \"cooling off\" - that is, accepting wacky solutions with lower and lower probability'''\n",
    "    C = 20#\n",
    "    p = 0.7#\n",
    "    temperature = C/(time+1)**p\n",
    "    \n",
    "    return temperature"
   ]
  },
  {
   "cell_type": "markdown",
   "metadata": {},
   "source": [
    "\n",
    "### (2c)  Define our simulated annealing algorithm\n",
    "\n",
    "Now that we have a temperature updating `schedule`, which defines how we accept/reject proposed moves for our simulated annealing algorithm, we can actually turn our pseudocode into real code!\n",
    "\n",
    "Let's write a `simulated_annealing` algorithm. Similar to the `hill_climbing` one above, we should take as arguments only the `problem` statement and maybe one other argument for the number of iterations to run the algorithm."
   ]
  },
  {
   "cell_type": "code",
   "execution_count": 24,
   "metadata": {},
   "outputs": [],
   "source": [
    "def simulated_annealing(problem, n_iter):\n",
    "    \n",
    "    current = problem.initial_state\n",
    "    \n",
    "    for t in range(n_iter):\n",
    "        temperature = problem.schedule_function(t)\n",
    "        nextMove, nextValue = problem.random_move()\n",
    "        delta_obj = current.value - nextValue\n",
    "        #print(t, problem.current_state.node, problem.current_state.value, nextMove, nextValue, delta_obj)\n",
    "        if delta_obj > 0:\n",
    "            # the proposed move is an improvement, so accept w.p. 1\n",
    "            problem.current_state.node, problem.current_state.value = nextMove, nextValue\n",
    "        else:\n",
    "            # the proposed move is worse; accept with probability exp[delta_obj/T]\n",
    "            p_accept = np.exp(delta_obj/temperature)\n",
    "            #print(p_accept)\n",
    "            accept = np.random.choice([True, False], p=[p_accept, 1-p_accept])\n",
    "            if accept:\n",
    "                problem.current_state.node, problem.current_state.value = nextMove, nextValue\n",
    "\n",
    "    return problem.current_state"
   ]
  },
  {
   "cell_type": "markdown",
   "metadata": {},
   "source": [
    "\n",
    "### (2d) Let's solve that problem from class!\n",
    "\n",
    "\n",
    "You know that plot in class of an example objective function we wanted to use simulated annealing to minimize?\n",
    "\n",
    "Well...  it's just the `several_gaussian_objective` from **(1d)** but ***upside-down!!!***\n",
    "\n",
    "(You should feel free to rename this function...)"
   ]
  },
  {
   "cell_type": "code",
   "execution_count": 25,
   "metadata": {},
   "outputs": [
    {
     "data": {
      "image/png": "[encoded data removed]",
      "text/plain": [
       "<Figure size 432x288 with 1 Axes>"
      ]
     },
     "metadata": {
      "needs_background": "light"
     },
     "output_type": "display_data"
    }
   ],
   "source": [
    "def not_such_a_mystery_anymore_objective(state):\n",
    "    locs = [0,2.1,4,4,8] # centers of a bunch of normal distributions\n",
    "    objective_value = 0\n",
    "    # objective function is actually just the sum of a bunch of normal pdfs\n",
    "    for loc in locs:\n",
    "        objective_value += stats.norm.pdf(state, loc=loc, scale=1)\n",
    "    return 1-objective_value\n",
    "\n",
    "x = np.arange(start=-5, stop=15, step=0.1)\n",
    "fx = [not_such_a_mystery_anymore_objective(xk) for xk in x]\n",
    "\n",
    "plt.plot(x, fx, c='coral', lw=2)\n",
    "plt.show()"
   ]
  },
  {
   "cell_type": "markdown",
   "metadata": {},
   "source": [
    "Now we're ready to use our simulated annealing algorithm to solve this problem!\n",
    "1. Define an `initial_state` and declare a relevant `problem`\n",
    "2. Feed these into your simulated annealing algorithm to attempt to find the global minimum\n",
    "\n",
    "If you're having trouble hitting the global minimum, try playing around with different values for:\n",
    "* stepsize (taking tiny steps makes it harder to get out of a local minimum)\n",
    "* schedule (mapping from time to temperature - if you lower the temperature slowly enough, the algorithm *will* find the global minimum with probability approaching 1)\n",
    "* start with initial `state` that you know should lead into the global minimum. Once you are happy that you can reliably optimize starting from there, move away and see how you need to modify the stepsize and/or temperature schedule to keep making it to the minimum.\n",
    "* try using a **random restart** range of initial states, similarly to how we tackled this problem (upside-down) using hill-climbing, and plotting a histogram of the ensemble results"
   ]
  },
  {
   "cell_type": "code",
   "execution_count": 26,
   "metadata": {},
   "outputs": [
    {
     "name": "stdout",
     "output_type": "stream",
     "text": [
      "12.599999999999987 0.9999898591479345\n"
     ]
    }
   ],
   "source": [
    "initial = 9\n",
    "initial_state = state(node=initial, value=not_such_a_mystery_anymore_objective(initial))\n",
    "problem_from_class = problem_anneal(initial=initial_state, objective_function=not_such_a_mystery_anymore_objective, \n",
    "                        schedule_function=schedule, stepsize=0.2)\n",
    "\n",
    "out = simulated_annealing(problem_from_class, n_iter=10**3)\n",
    "\n",
    "print(out.node, out.value)"
   ]
  },
  {
   "cell_type": "code",
   "execution_count": 27,
   "metadata": {},
   "outputs": [
    {
     "data": {
      "image/png": "[encoded data removed]",
      "text/plain": [
       "<Figure size 432x288 with 1 Axes>"
      ]
     },
     "metadata": {
      "needs_background": "light"
     },
     "output_type": "display_data"
    }
   ],
   "source": [
    "initial = np.arange(start=0, stop=10.5, step=0.5)\n",
    "out = []\n",
    "for init in initial:\n",
    "    initial_state = state(node=init, value=not_such_a_mystery_anymore_objective(init))\n",
    "    problem_from_class = problem_anneal(initial=initial_state, objective_function=not_such_a_mystery_anymore_objective, \n",
    "                            schedule_function=schedule, stepsize=0.2)\n",
    "    out.append(simulated_annealing(problem_from_class, n_iter=10**3).node)\n",
    "\n",
    "plt.hist(out)\n",
    "plt.xlabel('Estimate of global minimum')\n",
    "plt.ylabel('Frequency')\n",
    "plt.show()"
   ]
  }
 ],
 "metadata": {
  "kernelspec": {
   "display_name": "Python 3",
   "language": "python",
   "name": "python3"
  },
  "language_info": {
   "codemirror_mode": {
    "name": "ipython",
    "version": 3
   },
   "file_extension": ".py",
   "mimetype": "text/x-python",
   "name": "python",
   "nbconvert_exporter": "python",
   "pygments_lexer": "ipython3",
   "version": "3.7.4"
  }
 },
 "nbformat": 4,
 "nbformat_minor": 2
}
